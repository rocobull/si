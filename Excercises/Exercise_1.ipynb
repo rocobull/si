{
 "cells": [
  {
   "cell_type": "code",
   "execution_count": 19,
   "id": "701073d8",
   "metadata": {},
   "outputs": [],
   "source": [
    "import sys\n",
    "\n",
    "#for path in sys.path:\n",
    "#    print(path)\n",
    "\n",
    "sys.path.append(\"C:/Users/rober/si/src/si/data\")\n",
    "sys.path.append(\"C:/Users/rober/si/src/si/io\")\n",
    "\n",
    "import numpy as np\n",
    "import pandas as pd\n",
    "from dataset import Dataset\n",
    "from CSV import read_csv"
   ]
  },
  {
   "cell_type": "markdown",
   "id": "99947d6c",
   "metadata": {},
   "source": [
    "## 1) Neste exercício, vamos usar o iris dataset. Carrega o *iris.csv* usando o método read apropriado para o tipo de ficheiro."
   ]
  },
  {
   "cell_type": "code",
   "execution_count": 20,
   "id": "66f44c2d",
   "metadata": {},
   "outputs": [],
   "source": [
    "data = read_csv(\"C:/Users/rober/si/datasets/iris/iris.csv\", label=4)"
   ]
  },
  {
   "cell_type": "markdown",
   "id": "aa8c020d",
   "metadata": {},
   "source": [
    "## 2) Seleciona a primeira variável independente e verifica a dimensão do array resultante."
   ]
  },
  {
   "cell_type": "code",
   "execution_count": 21,
   "id": "6dbbd439",
   "metadata": {},
   "outputs": [
    {
     "name": "stdout",
     "output_type": "stream",
     "text": [
      "(150,)\n"
     ]
    }
   ],
   "source": [
    "print(data.X[:,0].shape)"
   ]
  },
  {
   "cell_type": "markdown",
   "id": "6e6e8284",
   "metadata": {},
   "source": [
    "## 3) Seleciona as últimas 5 amostras do iris dataset. Qual a média das últimas 5 amostras para cada variável independente/feature?"
   ]
  },
  {
   "cell_type": "code",
   "execution_count": 33,
   "id": "366b8488",
   "metadata": {},
   "outputs": [
    {
     "name": "stdout",
     "output_type": "stream",
     "text": [
      "Data:\t\t       Mean:\n",
      "----------------------------\n",
      "[6.7 3.0 5.2 2.3]  ->  4.3\n",
      "[6.3 2.5 5.0 1.9]  ->  3.925\n",
      "[6.5 3.0 5.2 2.0]  ->  4.175\n",
      "[6.2 3.4 5.4 2.3]  ->  4.325\n",
      "[5.9 3.0 5.1 1.8]  ->  3.95\n"
     ]
    }
   ],
   "source": [
    "elem = data.X[-5:]\n",
    "elem_mean = np.mean(data.X[-5:], axis=1)\n",
    "\n",
    "print(\"Data:\\t\\t       Mean:\\n----------------------------\")\n",
    "for i in range(len(elem)):\n",
    "    print(elem[i],\" -> \",round(elem_mean[i],3))"
   ]
  },
  {
   "cell_type": "markdown",
   "id": "3f4063a2",
   "metadata": {},
   "source": [
    "## 4) Seleciona todas as amostras do dataset com valor superior ou igual a 1. Nota que o array resultante deve ter apenas amostras com valores iguais ou superiores a 1 para todas as features."
   ]
  },
  {
   "cell_type": "code",
   "execution_count": 35,
   "id": "b2d2a9ad",
   "metadata": {},
   "outputs": [
    {
     "name": "stdout",
     "output_type": "stream",
     "text": [
      "       0    1    2    3          Especie\n",
      "50   7.0  3.2  4.7  1.4  Iris-versicolor\n",
      "51   6.4  3.2  4.5  1.5  Iris-versicolor\n",
      "52   6.9  3.1  4.9  1.5  Iris-versicolor\n",
      "53   5.5  2.3  4.0  1.3  Iris-versicolor\n",
      "54   6.5  2.8  4.6  1.5  Iris-versicolor\n",
      "..   ...  ...  ...  ...              ...\n",
      "145  6.7  3.0  5.2  2.3   Iris-virginica\n",
      "146  6.3  2.5  5.0  1.9   Iris-virginica\n",
      "147  6.5  3.0  5.2  2.0   Iris-virginica\n",
      "148  6.2  3.4  5.4  2.3   Iris-virginica\n",
      "149  5.9  3.0  5.1  1.8   Iris-virginica\n",
      "\n",
      "[93 rows x 5 columns]\n"
     ]
    }
   ],
   "source": [
    "df = pd.DataFrame(data.X)\n",
    "df.insert(4, \"Especie\", data.y)\n",
    "\n",
    "df_sup1 = df.loc[(df[0]>1) & (df[1]>1) & (df[2]>1) & (df[3]>1)]\n",
    "print(df_sup1)"
   ]
  },
  {
   "cell_type": "markdown",
   "id": "5c0ac5bc",
   "metadata": {},
   "source": [
    "## 5) Seleciona todas as amostras com a classe/label igual a ‘Iris-setosa’. Quantas amostras obténs?"
   ]
  },
  {
   "cell_type": "code",
   "execution_count": 36,
   "id": "a57ee24c",
   "metadata": {
    "scrolled": true
   },
   "outputs": [
    {
     "name": "stdout",
     "output_type": "stream",
     "text": [
      "[[5.1 3.5 1.4 0.2]\n",
      " [4.9 3.0 1.4 0.2]\n",
      " [4.7 3.2 1.3 0.2]\n",
      " [4.6 3.1 1.5 0.2]\n",
      " [5.0 3.6 1.4 0.2]\n",
      " [5.4 3.9 1.7 0.4]\n",
      " [4.6 3.4 1.4 0.3]\n",
      " [5.0 3.4 1.5 0.2]\n",
      " [4.4 2.9 1.4 0.2]\n",
      " [4.9 3.1 1.5 0.1]\n",
      " [5.4 3.7 1.5 0.2]\n",
      " [4.8 3.4 1.6 0.2]\n",
      " [4.8 3.0 1.4 0.1]\n",
      " [4.3 3.0 1.1 0.1]\n",
      " [5.8 4.0 1.2 0.2]\n",
      " [5.7 4.4 1.5 0.4]\n",
      " [5.4 3.9 1.3 0.4]\n",
      " [5.1 3.5 1.4 0.3]\n",
      " [5.7 3.8 1.7 0.3]\n",
      " [5.1 3.8 1.5 0.3]\n",
      " [5.4 3.4 1.7 0.2]\n",
      " [5.1 3.7 1.5 0.4]\n",
      " [4.6 3.6 1.0 0.2]\n",
      " [5.1 3.3 1.7 0.5]\n",
      " [4.8 3.4 1.9 0.2]\n",
      " [5.0 3.0 1.6 0.2]\n",
      " [5.0 3.4 1.6 0.4]\n",
      " [5.2 3.5 1.5 0.2]\n",
      " [5.2 3.4 1.4 0.2]\n",
      " [4.7 3.2 1.6 0.2]\n",
      " [4.8 3.1 1.6 0.2]\n",
      " [5.4 3.4 1.5 0.4]\n",
      " [5.2 4.1 1.5 0.1]\n",
      " [5.5 4.2 1.4 0.2]\n",
      " [4.9 3.1 1.5 0.1]\n",
      " [5.0 3.2 1.2 0.2]\n",
      " [5.5 3.5 1.3 0.2]\n",
      " [4.9 3.1 1.5 0.1]\n",
      " [4.4 3.0 1.3 0.2]\n",
      " [5.1 3.4 1.5 0.2]\n",
      " [5.0 3.5 1.3 0.3]\n",
      " [4.5 2.3 1.3 0.3]\n",
      " [4.4 3.2 1.3 0.2]\n",
      " [5.0 3.5 1.6 0.6]\n",
      " [5.1 3.8 1.9 0.4]\n",
      " [4.8 3.0 1.4 0.3]\n",
      " [5.1 3.8 1.6 0.2]\n",
      " [4.6 3.2 1.4 0.2]\n",
      " [5.3 3.7 1.5 0.2]\n",
      " [5.0 3.3 1.4 0.2]]\n",
      "50\n"
     ]
    }
   ],
   "source": [
    "X_is = data.X[data.y==\"Iris-setosa\",:]\n",
    "print(X_is)\n",
    "print(len(X_is))"
   ]
  },
  {
   "cell_type": "code",
   "execution_count": 38,
   "id": "5b8e0eee",
   "metadata": {
    "scrolled": true
   },
   "outputs": [
    {
     "name": "stdout",
     "output_type": "stream",
     "text": [
      "      0    1    2    3      Especie\n",
      "0   5.1  3.5  1.4  0.2  Iris-setosa\n",
      "1   4.9  3.0  1.4  0.2  Iris-setosa\n",
      "2   4.7  3.2  1.3  0.2  Iris-setosa\n",
      "3   4.6  3.1  1.5  0.2  Iris-setosa\n",
      "4   5.0  3.6  1.4  0.2  Iris-setosa\n",
      "5   5.4  3.9  1.7  0.4  Iris-setosa\n",
      "6   4.6  3.4  1.4  0.3  Iris-setosa\n",
      "7   5.0  3.4  1.5  0.2  Iris-setosa\n",
      "8   4.4  2.9  1.4  0.2  Iris-setosa\n",
      "9   4.9  3.1  1.5  0.1  Iris-setosa\n",
      "10  5.4  3.7  1.5  0.2  Iris-setosa\n",
      "11  4.8  3.4  1.6  0.2  Iris-setosa\n",
      "12  4.8  3.0  1.4  0.1  Iris-setosa\n",
      "13  4.3  3.0  1.1  0.1  Iris-setosa\n",
      "14  5.8  4.0  1.2  0.2  Iris-setosa\n",
      "15  5.7  4.4  1.5  0.4  Iris-setosa\n",
      "16  5.4  3.9  1.3  0.4  Iris-setosa\n",
      "17  5.1  3.5  1.4  0.3  Iris-setosa\n",
      "18  5.7  3.8  1.7  0.3  Iris-setosa\n",
      "19  5.1  3.8  1.5  0.3  Iris-setosa\n",
      "20  5.4  3.4  1.7  0.2  Iris-setosa\n",
      "21  5.1  3.7  1.5  0.4  Iris-setosa\n",
      "22  4.6  3.6  1.0  0.2  Iris-setosa\n",
      "23  5.1  3.3  1.7  0.5  Iris-setosa\n",
      "24  4.8  3.4  1.9  0.2  Iris-setosa\n",
      "25  5.0  3.0  1.6  0.2  Iris-setosa\n",
      "26  5.0  3.4  1.6  0.4  Iris-setosa\n",
      "27  5.2  3.5  1.5  0.2  Iris-setosa\n",
      "28  5.2  3.4  1.4  0.2  Iris-setosa\n",
      "29  4.7  3.2  1.6  0.2  Iris-setosa\n",
      "30  4.8  3.1  1.6  0.2  Iris-setosa\n",
      "31  5.4  3.4  1.5  0.4  Iris-setosa\n",
      "32  5.2  4.1  1.5  0.1  Iris-setosa\n",
      "33  5.5  4.2  1.4  0.2  Iris-setosa\n",
      "34  4.9  3.1  1.5  0.1  Iris-setosa\n",
      "35  5.0  3.2  1.2  0.2  Iris-setosa\n",
      "36  5.5  3.5  1.3  0.2  Iris-setosa\n",
      "37  4.9  3.1  1.5  0.1  Iris-setosa\n",
      "38  4.4  3.0  1.3  0.2  Iris-setosa\n",
      "39  5.1  3.4  1.5  0.2  Iris-setosa\n",
      "40  5.0  3.5  1.3  0.3  Iris-setosa\n",
      "41  4.5  2.3  1.3  0.3  Iris-setosa\n",
      "42  4.4  3.2  1.3  0.2  Iris-setosa\n",
      "43  5.0  3.5  1.6  0.6  Iris-setosa\n",
      "44  5.1  3.8  1.9  0.4  Iris-setosa\n",
      "45  4.8  3.0  1.4  0.3  Iris-setosa\n",
      "46  5.1  3.8  1.6  0.2  Iris-setosa\n",
      "47  4.6  3.2  1.4  0.2  Iris-setosa\n",
      "48  5.3  3.7  1.5  0.2  Iris-setosa\n",
      "49  5.0  3.3  1.4  0.2  Iris-setosa\n",
      "\n",
      "50\n"
     ]
    }
   ],
   "source": [
    "#OU\n",
    "df_is = df[df[\"Especie\"]==\"Iris-setosa\"]\n",
    "print(df_is)\n",
    "print()\n",
    "print(len(df_is))"
   ]
  },
  {
   "cell_type": "code",
   "execution_count": null,
   "id": "9728a076",
   "metadata": {},
   "outputs": [],
   "source": []
  }
 ],
 "metadata": {
  "kernelspec": {
   "display_name": "Python 3",
   "language": "python",
   "name": "python3"
  },
  "language_info": {
   "codemirror_mode": {
    "name": "ipython",
    "version": 3
   },
   "file_extension": ".py",
   "mimetype": "text/x-python",
   "name": "python",
   "nbconvert_exporter": "python",
   "pygments_lexer": "ipython3",
   "version": "3.8.8"
  }
 },
 "nbformat": 4,
 "nbformat_minor": 5
}
