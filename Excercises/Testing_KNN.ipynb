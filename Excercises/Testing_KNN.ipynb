{
 "cells": [
  {
   "cell_type": "code",
   "execution_count": 8,
   "metadata": {
    "collapsed": true
   },
   "outputs": [],
   "source": [
    "from si.io.CSV import read_csv\n",
    "from si.model_selection.split import train_test_split\n",
    "from si.neighbours.knn_classifier import KNNClassifier\n",
    "from si.neighbours.knn_regressor import KNNRegressor"
   ]
  },
  {
   "cell_type": "markdown",
   "source": [
    "## Classification"
   ],
   "metadata": {
    "collapsed": false
   }
  },
  {
   "cell_type": "code",
   "execution_count": 9,
   "outputs": [],
   "source": [
    "data1 = read_csv(\"C:/Users/rober/si/datasets/iris/iris.csv\", sep=\",\", label=-1)\n",
    "data1_train, data1_test = train_test_split(data1, 0.3, 0)"
   ],
   "metadata": {
    "collapsed": false
   }
  },
  {
   "cell_type": "code",
   "execution_count": 10,
   "outputs": [
    {
     "name": "stdout",
     "output_type": "stream",
     "text": [
      "Predictions:\n",
      "------------\n",
      "['Iris-virginica' 'Iris-versicolo' 'Iris-setosa' 'Iris-virginica'\n",
      " 'Iris-setosa' 'Iris-virginica' 'Iris-setosa' 'Iris-versicolo'\n",
      " 'Iris-versicolo' 'Iris-versicolo' 'Iris-virginica' 'Iris-versicolo'\n",
      " 'Iris-versicolo' 'Iris-versicolo' 'Iris-versicolo' 'Iris-setosa'\n",
      " 'Iris-versicolo' 'Iris-versicolo' 'Iris-setosa' 'Iris-setosa'\n",
      " 'Iris-virginica' 'Iris-versicolo' 'Iris-setosa' 'Iris-setosa'\n",
      " 'Iris-virginica' 'Iris-setosa' 'Iris-setosa' 'Iris-versicolo'\n",
      " 'Iris-versicolo' 'Iris-setosa' 'Iris-virginica' 'Iris-versicolo'\n",
      " 'Iris-setosa' 'Iris-virginica' 'Iris-virginica' 'Iris-versicolo'\n",
      " 'Iris-setosa' 'Iris-virginica' 'Iris-versicolo' 'Iris-versicolo'\n",
      " 'Iris-virginica' 'Iris-setosa' 'Iris-virginica' 'Iris-setosa'\n",
      " 'Iris-setosa']\n",
      "\n",
      "Score:\n",
      "------\n",
      "0.6\n"
     ]
    }
   ],
   "source": [
    "model = KNNClassifier(3)\n",
    "model.fit(data1_train)\n",
    "\n",
    "print(\"Predictions:\\n------------\")\n",
    "print(model.predict(data1_test))\n",
    "print(\"\\nScore:\\n------\")\n",
    "print(model.score(data1_test))"
   ],
   "metadata": {
    "collapsed": false
   }
  },
  {
   "cell_type": "markdown",
   "source": [
    "## Regression"
   ],
   "metadata": {
    "collapsed": false
   }
  },
  {
   "cell_type": "code",
   "execution_count": 11,
   "outputs": [],
   "source": [
    "data2 = read_csv(\"C:/Users/rober/si/datasets/cpu/cpu.csv\", sep=\",\", label=-1)\n",
    "data2_train, data2_test = train_test_split(data2, 0.3, 0)"
   ],
   "metadata": {
    "collapsed": false
   }
  },
  {
   "cell_type": "code",
   "execution_count": 12,
   "outputs": [
    {
     "name": "stdout",
     "output_type": "stream",
     "text": [
      "Predictions:\n",
      "------------\n",
      "[  63.          116.           70.33333333  324.33333333   73.66666667\n",
      "   34.66666667   96.66666667   14.33333333  145.66666667  183.66666667\n",
      "   39.33333333  447.33333333   54.66666667  150.          447.33333333\n",
      "   34.66666667   24.66666667   25.           26.           22.33333333\n",
      "   22.33333333   54.66666667  447.33333333   67.66666667   34.66666667\n",
      "   50.66666667   31.33333333   35.33333333   25.33333333   28.\n",
      "   67.66666667   45.33333333   53.33333333   40.           94.66666667\n",
      "   91.33333333   20.           67.66666667   21.           60.66666667\n",
      "  161.           43.33333333   34.66666667   56.66666667  178.33333333\n",
      "   33.66666667   60.66666667   67.66666667   64.66666667   10.33333333\n",
      "   82.66666667   83.           39.          209.66666667 1069.66666667\n",
      "   24.66666667   35.           50.33333333   60.66666667   35.\n",
      "  324.33333333   11.        ]\n",
      "\n",
      "Score:\n",
      "------\n",
      "67.928238014196\n"
     ]
    }
   ],
   "source": [
    "# k = 3\n",
    "model = KNNRegressor(3)\n",
    "model.fit(data2_train)\n",
    "\n",
    "print(\"Predictions:\\n------------\")\n",
    "print(model.predict(data2_test))\n",
    "print(\"\\nScore:\\n------\")\n",
    "print(model.score(data2_test))"
   ],
   "metadata": {
    "collapsed": false
   }
  },
  {
   "cell_type": "code",
   "execution_count": 14,
   "outputs": [
    {
     "name": "stdout",
     "output_type": "stream",
     "text": [
      "Predictions:\n",
      "------------\n",
      "[ 55.  151.2  67.4 292.4  67.4  31.2  80.4  12.4 190.4 155.4  35.2 423.4\n",
      "  69.6 155.6 407.6  31.6  35.2  27.8  18.4  31.2  31.2  72.  407.6  69.6\n",
      "  31.6  73.2  31.6  24.8  31.2  36.   69.6  52.6  58.4  45.6  88.   73.2\n",
      "  28.   55.4  30.8  73.2 181.   45.2  29.8  60.4 153.6 101.8  73.2  69.6\n",
      "  61.6  14.6  70.6  71.2  48.8 190.4 808.2  35.2  31.8  52.6  73.2  31.8\n",
      " 292.4  15. ]\n",
      "\n",
      "Score:\n",
      "------\n",
      "49.60660075745644\n"
     ]
    }
   ],
   "source": [
    "# k = 5 (best)\n",
    "model = KNNRegressor(5)\n",
    "model.fit(data2_train)\n",
    "\n",
    "print(\"Predictions:\\n------------\")\n",
    "print(model.predict(data2_test))\n",
    "print(\"\\nScore:\\n------\")\n",
    "print(model.score(data2_test))"
   ],
   "metadata": {
    "collapsed": false
   }
  },
  {
   "cell_type": "code",
   "execution_count": 16,
   "outputs": [
    {
     "name": "stdout",
     "output_type": "stream",
     "text": [
      "Predictions:\n",
      "------------\n",
      "[ 55.5        130.5         65.5        272.33333333  65.\n",
      "  29.66666667  73.66666667  11.33333333 204.83333333 151.66666667\n",
      "  35.33333333 407.16666667  69.66666667 145.16666667 385.83333333\n",
      "  33.          35.33333333  28.16666667  18.33333333  71.66666667\n",
      "  87.33333333  70.         385.83333333  65.          33.\n",
      " 104.16666667  33.          24.66666667  71.66666667  63.\n",
      "  65.          54.16666667  59.          46.5         88.83333333\n",
      " 104.16666667  25.33333333  65.          30.         104.16666667\n",
      " 187.5         46.33333333  28.83333333  59.         144.66666667\n",
      " 130.5        104.16666667  65.          63.16666667  18.16666667\n",
      "  63.83333333  63.83333333  44.66666667 226.16666667 758.5\n",
      "  35.33333333  32.83333333  54.16666667 104.16666667  32.83333333\n",
      " 272.33333333  18.5       ]\n",
      "\n",
      "Score:\n",
      "------\n",
      "49.615519958865\n"
     ]
    }
   ],
   "source": [
    "# k = 6\n",
    "model = KNNRegressor(6)\n",
    "model.fit(data2_train)\n",
    "\n",
    "print(\"Predictions:\\n------------\")\n",
    "print(model.predict(data2_test))\n",
    "print(\"\\nScore:\\n------\")\n",
    "print(model.score(data2_test))"
   ],
   "metadata": {
    "collapsed": false
   }
  }
 ],
 "metadata": {
  "kernelspec": {
   "display_name": "Python 3",
   "language": "python",
   "name": "python3"
  },
  "language_info": {
   "codemirror_mode": {
    "name": "ipython",
    "version": 2
   },
   "file_extension": ".py",
   "mimetype": "text/x-python",
   "name": "python",
   "nbconvert_exporter": "python",
   "pygments_lexer": "ipython2",
   "version": "2.7.6"
  }
 },
 "nbformat": 4,
 "nbformat_minor": 0
}
