{
 "cells": [
  {
   "cell_type": "code",
   "execution_count": 1,
   "outputs": [],
   "source": [
    "from si.data.dataset import Dataset\n",
    "from si.io.CSV import read_csv\n",
    "from si.model_selection.cross_validate import cross_validate\n",
    "from si.model_selection.grid_search import grid_search_cv\n",
    "from si.model_selection.randomized_search import randomized_search_cv\n",
    "from si.model_selection.split import train_test_split\n",
    "from sklearn.preprocessing import StandardScaler\n",
    "import numpy as np\n",
    "import pandas as pd\n",
    "\n",
    "#Models\n",
    "from si.linear_model.logistic_regression import LogisticRegression"
   ],
   "metadata": {
    "collapsed": false
   }
  },
  {
   "cell_type": "markdown",
   "source": [
    "# Cross validation"
   ],
   "metadata": {
    "collapsed": false
   }
  },
  {
   "cell_type": "code",
   "execution_count": 2,
   "outputs": [],
   "source": [
    "#Importing data\n",
    "data = read_csv(\"C:/Users/rober/si/datasets/breast/breast-bin.csv\", \",\", False, -1)\n",
    "\n",
    "data.X = StandardScaler().fit_transform(data.X)"
   ],
   "metadata": {
    "collapsed": false
   }
  },
  {
   "cell_type": "code",
   "execution_count": 3,
   "outputs": [
    {
     "name": "stdout",
     "output_type": "stream",
     "text": [
      "   seed     train      test\n",
      "0   778  0.965306  0.971292\n",
      "1   712  0.967347  0.976077\n",
      "2   921  0.971429  0.956938\n",
      "3   232  0.967347  0.966507\n",
      "4   480  0.963265  0.971292\n"
     ]
    }
   ],
   "source": [
    "model = LogisticRegression()\n",
    "scores = cross_validate(model, data, cv=5, test_size=0.3)\n",
    "\n",
    "#print(scores)\n",
    "scores_dataframe = pd.DataFrame(scores)\n",
    "print(scores_dataframe)"
   ],
   "metadata": {
    "collapsed": false
   }
  },
  {
   "cell_type": "markdown",
   "source": [
    "# Grid search"
   ],
   "metadata": {
    "collapsed": false
   }
  },
  {
   "cell_type": "code",
   "execution_count": 4,
   "outputs": [
    {
     "name": "stdout",
     "output_type": "stream",
     "text": [
      "\n",
      "Params:\t\t\t {'l2_penalty': 1, 'alpha': 0.001, 'max_iter': 1000}\n",
      "Seeds:\t\t\t [731, 213, 491]\n",
      "Train scores:\t [0.9714285714285714, 0.9673469387755103, 0.9755102040816327]\n",
      "Test scores:\t [0.9569377990430622, 0.9665071770334929, 0.9473684210526315]\n",
      "\n",
      "Params:\t\t\t {'l2_penalty': 1, 'alpha': 0.001, 'max_iter': 2000}\n",
      "Seeds:\t\t\t [538, 254, 154]\n",
      "Train scores:\t [0.9714285714285714, 0.9673469387755103, 0.9653061224489796]\n",
      "Test scores:\t [0.9569377990430622, 0.9712918660287081, 0.9712918660287081]\n",
      "\n",
      "Params:\t\t\t {'l2_penalty': 1, 'alpha': 0.0001, 'max_iter': 1000}\n",
      "Seeds:\t\t\t [948, 245, 27]\n",
      "Train scores:\t [0.9693877551020408, 0.963265306122449, 0.9653061224489796]\n",
      "Test scores:\t [0.9617224880382775, 0.9760765550239234, 0.9712918660287081]\n",
      "\n",
      "Params:\t\t\t {'l2_penalty': 1, 'alpha': 0.0001, 'max_iter': 2000}\n",
      "Seeds:\t\t\t [27, 779, 898]\n",
      "Train scores:\t [0.9653061224489796, 0.9693877551020408, 0.963265306122449]\n",
      "Test scores:\t [0.9712918660287081, 0.9617224880382775, 0.9760765550239234]\n",
      "\n",
      "Params:\t\t\t {'l2_penalty': 10, 'alpha': 0.001, 'max_iter': 1000}\n",
      "Seeds:\t\t\t [672, 232, 480]\n",
      "Train scores:\t [0.9673469387755103, 0.9673469387755103, 0.963265306122449]\n",
      "Test scores:\t [0.9665071770334929, 0.9665071770334929, 0.9760765550239234]\n",
      "\n",
      "Params:\t\t\t {'l2_penalty': 10, 'alpha': 0.001, 'max_iter': 2000}\n",
      "Seeds:\t\t\t [731, 213, 491]\n",
      "Train scores:\t [0.9714285714285714, 0.9673469387755103, 0.9755102040816327]\n",
      "Test scores:\t [0.9569377990430622, 0.9665071770334929, 0.9473684210526315]\n",
      "\n",
      "Params:\t\t\t {'l2_penalty': 10, 'alpha': 0.0001, 'max_iter': 1000}\n",
      "Seeds:\t\t\t [538, 254, 154]\n",
      "Train scores:\t [0.9714285714285714, 0.9653061224489796, 0.9653061224489796]\n",
      "Test scores:\t [0.9569377990430622, 0.9712918660287081, 0.9712918660287081]\n",
      "\n",
      "Params:\t\t\t {'l2_penalty': 10, 'alpha': 0.0001, 'max_iter': 2000}\n",
      "Seeds:\t\t\t [948, 245, 27]\n",
      "Train scores:\t [0.9693877551020408, 0.963265306122449, 0.9653061224489796]\n",
      "Test scores:\t [0.9617224880382775, 0.9760765550239234, 0.9712918660287081]\n",
      "\n",
      "BEST PARAMS:\n",
      "[{'seed': 245, 'best_test_score': 0.9760765550239234}, {'l2_penalty': 1, 'alpha': 0.0001, 'max_iter': 1000}]\n"
     ]
    }
   ],
   "source": [
    "model = LogisticRegression()\n",
    "\n",
    "parameters = {\"l2_penalty\": [1, 10],\n",
    "              \"alpha\": [0.001, 0.0001],\n",
    "              \"max_iter\": [1000, 2000]}\n",
    "\n",
    "all_scores, best_scores, model = grid_search_cv(model, data, parameters, cv=3, test_size=0.3, scale = False, verbose=True)\n",
    "print()\n",
    "print(\"BEST PARAMS:\")\n",
    "print(best_scores)\n",
    "\n",
    "#for elem in scores:\n",
    "#    print(\"\\n|\\n\")\n",
    "#    print(\"Parameters:\\n-----------\")\n",
    "#    print(elem[\"parameters\"])\n",
    "#    print(\"\\nScores:\\n-------\")\n",
    "#    print(pd.DataFrame({k:v for k,v in elem.items() if k!=\"parameters\"}))\n",
    "#scores_dataframe = pd.DataFrame(scores)\n",
    "#print(scores_dataframe)"
   ],
   "metadata": {
    "collapsed": false
   }
  },
  {
   "cell_type": "code",
   "execution_count": 6,
   "outputs": [
    {
     "data": {
      "text/plain": "0.9760765550239234"
     },
     "execution_count": 6,
     "metadata": {},
     "output_type": "execute_result"
    }
   ],
   "source": [
    "train, test = train_test_split(data, 0.3, best_scores[0][\"seed\"])\n",
    "model.score(test)"
   ],
   "metadata": {
    "collapsed": false
   }
  },
  {
   "cell_type": "markdown",
   "source": [
    "# Randomized search"
   ],
   "metadata": {
    "collapsed": false
   }
  },
  {
   "cell_type": "code",
   "execution_count": 7,
   "outputs": [
    {
     "name": "stdout",
     "output_type": "stream",
     "text": [
      "\n",
      "Params:\t\t\t {'l2_penalty': 8, 'alpha': 0.0002181818181818182, 'max_iter': 1608}\n",
      "Seeds:\t\t\t [331, 919, 455]\n",
      "Train scores:\t [0.9673469387755103, 0.9653061224489796, 0.9714285714285714]\n",
      "Test scores:\t [0.9665071770334929, 0.9712918660287081, 0.9569377990430622]\n",
      "\n",
      "Params:\t\t\t {'l2_penalty': 5, 'alpha': 0.0006090909090909092, 'max_iter': 1165}\n",
      "Seeds:\t\t\t [342, 894, 211]\n",
      "Train scores:\t [0.9755102040816327, 0.9673469387755103, 0.9591836734693877]\n",
      "Test scores:\t [0.9473684210526315, 0.9665071770334929, 0.9856459330143541]\n",
      "\n",
      "Params:\t\t\t {'l2_penalty': 6, 'alpha': 0.0009272727272727273, 'max_iter': 1924}\n",
      "Seeds:\t\t\t [269, 847, 81]\n",
      "Train scores:\t [0.9653061224489796, 0.9653061224489796, 0.9714285714285714]\n",
      "Test scores:\t [0.9712918660287081, 0.9712918660287081, 0.9569377990430622]\n",
      "\n",
      "Params:\t\t\t {'l2_penalty': 1, 'alpha': 0.0008, 'max_iter': 1979}\n",
      "Seeds:\t\t\t [495, 64, 844]\n",
      "Train scores:\t [0.9673469387755103, 0.9734693877551021, 0.9693877551020408]\n",
      "Test scores:\t [0.9665071770334929, 0.9521531100478469, 0.9617224880382775]\n",
      "\n",
      "Params:\t\t\t {'l2_penalty': 9, 'alpha': 0.0007090909090909091, 'max_iter': 1241}\n",
      "Seeds:\t\t\t [768, 128, 827]\n",
      "Train scores:\t [0.9673469387755103, 0.963265306122449, 0.9755102040816327]\n",
      "Test scores:\t [0.9665071770334929, 0.9760765550239234, 0.9473684210526315]\n",
      "\n",
      "Params:\t\t\t {'l2_penalty': 2, 'alpha': 0.0004272727272727273, 'max_iter': 1020}\n",
      "Seeds:\t\t\t [573, 869, 746]\n",
      "Train scores:\t [0.9734693877551021, 0.9571428571428572, 0.9714285714285714]\n",
      "Test scores:\t [0.9521531100478469, 0.9904306220095693, 0.9569377990430622]\n",
      "\n",
      "Params:\t\t\t {'l2_penalty': 9, 'alpha': 0.0009363636363636364, 'max_iter': 1582}\n",
      "Seeds:\t\t\t [112, 390, 930]\n",
      "Train scores:\t [0.9734693877551021, 0.9693877551020408, 0.9775510204081632]\n",
      "Test scores:\t [0.9521531100478469, 0.9617224880382775, 0.9473684210526315]\n",
      "\n",
      "Params:\t\t\t {'l2_penalty': 9, 'alpha': 0.00017272727272727275, 'max_iter': 1005}\n",
      "Seeds:\t\t\t [615, 259, 403]\n",
      "Train scores:\t [0.9673469387755103, 0.9755102040816327, 0.9734693877551021]\n",
      "Test scores:\t [0.9665071770334929, 0.9473684210526315, 0.9521531100478469]\n",
      "\n",
      "Params:\t\t\t {'l2_penalty': 1, 'alpha': 0.0007363636363636363, 'max_iter': 1477}\n",
      "Seeds:\t\t\t [651, 961, 45]\n",
      "Train scores:\t [0.9714285714285714, 0.9673469387755103, 0.9673469387755103]\n",
      "Test scores:\t [0.9569377990430622, 0.9665071770334929, 0.9665071770334929]\n",
      "\n",
      "Params:\t\t\t {'l2_penalty': 5, 'alpha': 0.0009272727272727273, 'max_iter': 1834}\n",
      "Seeds:\t\t\t [287, 120, 338]\n",
      "Train scores:\t [0.9693877551020408, 0.9673469387755103, 0.9693877551020408]\n",
      "Test scores:\t [0.9617224880382775, 0.9665071770334929, 0.9617224880382775]\n",
      "\n",
      "BEST PARAMS:\n",
      "[{'seed': 869, 'best_test_score': 0.9904306220095693}, {'l2_penalty': 2, 'alpha': 0.0004272727272727273, 'max_iter': 1020}]\n"
     ]
    }
   ],
   "source": [
    "model = LogisticRegression()\n",
    "\n",
    "parameters = {\"l2_penalty\": np.linspace(1,10,10).astype(int),\n",
    "              \"alpha\": np.linspace(0.001, 0.0001, 100),\n",
    "              \"max_iter\": np.linspace(1000, 2000, 200).astype(int)}\n",
    "\n",
    "all_scores, best_scores, model = randomized_search_cv(model, data, parameters, cv=3, n_iter=10, test_size=0.3, scale=False)\n",
    "print()\n",
    "print(\"BEST PARAMS:\")\n",
    "print(best_scores)\n",
    "\n",
    "#for elem in scores:\n",
    "#    print(\"\\n|\\n\")\n",
    "#    print(\"Parameters:\\n-----------\")\n",
    "#    print(elem[\"parameters\"])\n",
    "#    print(\"\\nScores:\\n-------\")\n",
    "#    print(pd.DataFrame({k:v for k,v in elem.items() if k!=\"parameters\"}))"
   ],
   "metadata": {
    "collapsed": false
   }
  },
  {
   "cell_type": "code",
   "execution_count": 9,
   "outputs": [
    {
     "data": {
      "text/plain": "0.9904306220095693"
     },
     "execution_count": 9,
     "metadata": {},
     "output_type": "execute_result"
    }
   ],
   "source": [
    "train, test = train_test_split(data, 0.3, best_scores[0][\"seed\"])\n",
    "model.score(test)"
   ],
   "metadata": {
    "collapsed": false
   }
  },
  {
   "cell_type": "code",
   "execution_count": null,
   "outputs": [],
   "source": [],
   "metadata": {
    "collapsed": false
   }
  }
 ],
 "metadata": {
  "kernelspec": {
   "display_name": "Python 3",
   "language": "python",
   "name": "python3"
  },
  "language_info": {
   "codemirror_mode": {
    "name": "ipython",
    "version": 2
   },
   "file_extension": ".py",
   "mimetype": "text/x-python",
   "name": "python",
   "nbconvert_exporter": "python",
   "pygments_lexer": "ipython2",
   "version": "2.7.6"
  }
 },
 "nbformat": 4,
 "nbformat_minor": 0
}
