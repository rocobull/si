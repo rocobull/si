{
 "cells": [
  {
   "cell_type": "markdown",
   "source": [
    "## KMeans"
   ],
   "metadata": {
    "collapsed": false
   }
  },
  {
   "cell_type": "code",
   "execution_count": 8,
   "outputs": [],
   "source": [
    "from si.io.CSV import read_csv\n",
    "from si.io.data_file import read_data_file\n",
    "from si.clustering.kmeans import KMeans\n",
    "from si.decomposition.pca import PCA\n",
    "from sklearn import preprocessing\n",
    "\n",
    "data1 = read_csv(\"C:/Users/rober/si/datasets/cpu/cpu.csv\", \",\", True)\n",
    "data2 = read_data_file(\"C:/Users/rober/si/datasets/breast/breast-bin.data\", \",\")"
   ],
   "metadata": {
    "collapsed": false
   }
  },
  {
   "cell_type": "code",
   "execution_count": 2,
   "outputs": [
    {
     "name": "stdout",
     "output_type": "stream",
     "text": [
      "Not scaled:\n",
      "Number of iterations: 5\n",
      "\n",
      "Groups:\n",
      "[0 2 2 2 1 2 2 2 2 2 0 0 1 1 0 1 0 0 0 0 0 0 0 0 0 0 0 0 0 0 0 0 1 1 1 1 0\n",
      " 0 1 0 1 1 1 1 1 1 0 0 1 1 1 0 1 1 0 1 1 1 1 1 1 1 0 1 1 1 0 0 0 0 1 1 0 0\n",
      " 0 1 0 1 0 1 0 0 1 0 0 0 0 0 2 1 2 2 0 1 2 2 2 2 1 0 0 0 0 0 0 0 1 0 0 0 0\n",
      " 0 0 0 1 1 1 0 1 1 1 1 0 0 0 0 1 1 1 1 1 1 1 1 1 1 1 0 1 0 1 1 1 1 1 1 1 1\n",
      " 1 1 1 2 2 2 2 2 2 0 0 0 0 1 1 1 1 1 1 1 2 1 0 0 1 0 0 1 0 0 0 1 1 0 0 0 0\n",
      " 1 1 1 1 1 2 2 2 1 2 2 2 2 2 2 0 0 0 0 1 1 1 1 0]\n",
      "\n",
      "\n",
      "\n",
      "Scaled\n",
      "Number of iterations: 8\n",
      "\n",
      "Groups:\n",
      "[1 0 0 0 0 0 0 0 0 1 2 2 2 0 2 2 2 2 2 0 2 2 2 2 2 2 2 2 2 2 0 0 2 2 0 0 2\n",
      " 2 2 2 2 2 2 2 2 2 2 2 2 2 2 2 2 2 2 2 2 2 2 2 2 2 2 2 2 0 2 2 2 2 2 2 2 2\n",
      " 2 2 2 2 2 2 2 2 2 2 2 2 2 2 0 2 0 0 2 2 0 0 0 0 0 2 2 2 2 2 2 2 2 2 2 2 2\n",
      " 2 2 2 2 2 2 2 2 2 2 2 2 2 2 2 2 2 2 2 0 2 2 2 2 2 2 2 2 2 2 2 2 2 2 2 0 0\n",
      " 0 2 0 0 0 0 0 0 0 2 2 2 2 2 2 2 2 0 0 0 0 0 2 2 2 2 2 2 2 2 2 2 2 2 2 2 2\n",
      " 2 2 2 2 0 0 0 0 2 0 0 1 1 1 1 2 2 2 2 2 2 2 2 2]\n"
     ]
    }
   ],
   "source": [
    "km = KMeans(3, 500)\n",
    "\n",
    "print(\"Not scaled:\")\n",
    "km_fit = km.fit(data1, False)\n",
    "print(\"\\nGroups:\")\n",
    "print(km_fit.predict(data1, False))\n",
    "\n",
    "print(\"\\n\\n\")\n",
    "\n",
    "print(\"Scaled\")\n",
    "km_fit = km.fit(data1, True)\n",
    "print(\"\\nGroups:\")\n",
    "print(km_fit.predict(data1, True))"
   ],
   "metadata": {
    "collapsed": false
   }
  },
  {
   "cell_type": "code",
   "execution_count": 3,
   "outputs": [
    {
     "name": "stdout",
     "output_type": "stream",
     "text": [
      "Number of iterations: 6\n",
      "\n",
      "Groups:\n",
      "[1 2 0 0 1 2 0 2 2 1 0 0 0 2 0 2 2 0 2 1 2 2 0 0 2 1 1 1 1 1 1 2 1 1 0 1 2\n",
      " 1 2 2 1 1 0 2 0 2 1 1 2 0 0 1 2 0 0 0 2 2 0 2 1 1 2 0 0 2 2 2 2 0 0 1 1 2\n",
      " 2 0 0 2 2 1 2 2 2 1 1 1 2 2 1 2 1 0 1 0 0 1 2 0 2 2 2 1 0 1 1 1 1 2 0 0 0\n",
      " 0 1 2 0 2 1 1 2 0 0 2 2 2 0 2 2 2 2 2 2 0 0 1 1 0 1 1 2 1 1 0 0 0 2 2 2 1\n",
      " 2 1 2 2 1 0 0 0 2 0 2 1 0 2 2 0 1 2 1 0 0 2 2 2 1 1 1 2 2 2 1 2 2 0 0 1 1\n",
      " 2 2 2 2 1 0 0 0 0 2 2 1 1 0 1 1 2 1 0 2 2 2 2 2 1 2 1 0 2 0 0 0 0 2 2 1 1\n",
      " 0 1 0 0 0 2 0 1 1 2 2 1 2 1 2 0 1 1 2 2 1 1 1 1 0 1 1 2 0 0 2 2 0 1 2 1 1\n",
      " 2 1 1 0 0 2 1 1 2 2 2 0 0 0 0 1 1 1 0 1 0 0 1 1 1 1 1 0 2 2 2 2 1 2 2 0 2\n",
      " 0 1 2 1 1 2 1 0 1 0 0 0 2 1 1 2 1 2 2 2 2 1 2 1 0 0 2 0 1 1 2 2 2 1 0 0 2\n",
      " 0 1 2 1 2 1 1 1 0 0 0 0 0 2 1 0 0 2 0 0 0 2 2 0 1 0 2 0 2 2 2 0 1 2 1 1 1\n",
      " 1 0 2 0 2 1 0 0 0 2 2 2 2 1 1 0 2 0 2 2 2 1 2 1 1 2 2 2 1 0 1 2 1 0 1 2 0\n",
      " 0 0 1 1 1 1 2 2 1 2 1 0 0 1 2 1 1 1 0 2 0 0 1 1 1 2 2 0 0 2 0 1 2 1 1 2 1\n",
      " 0 1 2 2 1 1 2 2 1 0 1 0 0 2 2 1 0 2 1 2 2 1 0 0 0 2 2 1 1 1 1 2 2 2 2 1 1\n",
      " 2 2 2 0 1 0 0 2 0 1 1 2 2 2 0 1 1 2 0 1 2 1 2 1 2 2 2 1 2 1 1 1 2 2 2 2 1\n",
      " 1 0 2 1 1 1 1 2 0 1 2 1 0 0 1 2 0 2 1 2 1 0 2 1 2 2 0 2 1 0 0 1 1 1 1 2 1\n",
      " 0 2 2 2 1 0 2 2 0 0 2 2 2 1 2 2 1 0 2 2 2 2 2 1 0 0 0 2 0 2 2 1 1 0 1 0 2\n",
      " 1 1 1 1 1 2 2 2 2 2 0 0 1 1 2 1 2 2 2 0 1 2 2 2 1 2 0 1 1 2 2 1 2 1 1 1 0\n",
      " 0 2 0 2 2 0 1 1 1 1 1 2 1 0 0 2 1 0 2 1 2 0 2 2 1 0 1 2 1 1 2 2 1 1 2 1 2\n",
      " 1 2 2 0 2 0 0 1 1 2 0 2 1 0 1 0 1 2 0 1 2 2 2 0 1 1 1 2 0 2 2 0 1]\n"
     ]
    }
   ],
   "source": [
    "km_fit = km.fit(data2)\n",
    "#print(km_fit.transform(data1))\n",
    "print(\"\\nGroups:\")\n",
    "print(km_fit.predict(data2))"
   ],
   "metadata": {
    "collapsed": false
   }
  },
  {
   "cell_type": "markdown",
   "source": [
    "## PCA"
   ],
   "metadata": {
    "collapsed": false
   }
  },
  {
   "cell_type": "code",
   "execution_count": 4,
   "outputs": [
    {
     "name": "stdout",
     "output_type": "stream",
     "text": [
      "### CREATED CLASS ###\n",
      "---------------------\n",
      "Mean Values:\n",
      " [-8.49931502e-18 -3.39972601e-17  9.77421227e-17  4.24965751e-17\n",
      " -3.82469176e-17 -1.69986300e-17]\n",
      "\n",
      "Principal Components:\n",
      " [[ 0.28998081 -0.42736541 -0.46913674 -0.42856007 -0.43533454 -0.37416675]\n",
      " [ 0.68218424 -0.33298195 -0.11408717  0.15163789  0.27463756  0.55884878]\n",
      " [-0.66860232 -0.5476845  -0.26428174 -0.01993454  0.03019271  0.42644906]]\n"
     ]
    }
   ],
   "source": [
    "print(\"### CREATED CLASS ###\\n---------------------\")\n",
    "\n",
    "pca = PCA(3)\n",
    "\n",
    "pca.fit(data1)\n",
    "print(\"Mean Values:\\n\", pca.mean_vals)\n",
    "print(\"\\nPrincipal Components:\\n\", pca.principal_comp)\n",
    "#print(\"\\nExplained Variance:\\n\", pca.explained_variance)\n",
    "#print(\"\\n----------\\n\")\n",
    "\n",
    "#svd_red = pca.transform(data1)\n",
    "#print(\"SVD Reduced:\\n\", svd_red)\n",
    "#print(\"\\nS:\\n\", S)\n",
    "#print(\"\\nV:\\n\", V)"
   ],
   "metadata": {
    "collapsed": false
   }
  },
  {
   "cell_type": "code",
   "execution_count": 9,
   "outputs": [
    {
     "name": "stdout",
     "output_type": "stream",
     "text": [
      "### ORIGINAL CLASS (sklearn) ###\n",
      "--------------------------------\n",
      "[[-0.28998081  0.42736541  0.46913674  0.42856007  0.43533454  0.37416675]\n",
      " [ 0.68218424 -0.33298195 -0.11408717  0.15163789  0.27463756  0.55884878]\n",
      " [ 0.66860232  0.5476845   0.26428174  0.01993454 -0.03019271 -0.42644906]]\n"
     ]
    }
   ],
   "source": [
    "print(\"### ORIGINAL CLASS (sklearn) ###\\n--------------------------------\")\n",
    "\n",
    "from sklearn.decomposition import PCA\n",
    "\n",
    "data1.X = preprocessing.scale(data1.X)\n",
    "\n",
    "pca = PCA(n_components=3)\n",
    "pca.fit(data1.X)\n",
    "print(pca.components_)"
   ],
   "metadata": {
    "collapsed": false
   }
  },
  {
   "cell_type": "code",
   "execution_count": 10,
   "outputs": [
    {
     "data": {
      "text/plain": "array([[-0.30358614, -0.67502598, -0.49546221,  5.69420785,  1.66198873,\n         4.23103334],\n       [-0.67332952,  1.32629082,  1.72704937,  0.16762947,  0.48550899,\n         0.52947875],\n       [-0.67332952,  1.32629082,  1.72704937,  0.16762947,  0.48550899,\n         0.52947875],\n       ...,\n       [-0.30358614, -0.2243162 , -0.32449978, -0.62188173, -0.39685082,\n        -0.16456273],\n       [ 1.06369405, -0.60886675, -0.32449978,  0.16762947, -0.69097076,\n        -0.70437278],\n       [ 1.06369405, -0.48275071, -0.66642464, -0.62188173, -0.69097076,\n        -0.70437278]])"
     },
     "execution_count": 10,
     "metadata": {},
     "output_type": "execute_result"
    }
   ],
   "source": [
    "data1.X"
   ],
   "metadata": {
    "collapsed": false
   }
  },
  {
   "cell_type": "code",
   "execution_count": null,
   "outputs": [],
   "source": [],
   "metadata": {
    "collapsed": false
   }
  }
 ],
 "metadata": {
  "kernelspec": {
   "display_name": "Python 3",
   "language": "python",
   "name": "python3"
  },
  "language_info": {
   "codemirror_mode": {
    "name": "ipython",
    "version": 2
   },
   "file_extension": ".py",
   "mimetype": "text/x-python",
   "name": "python",
   "nbconvert_exporter": "python",
   "pygments_lexer": "ipython2",
   "version": "2.7.6"
  }
 },
 "nbformat": 4,
 "nbformat_minor": 0
}
