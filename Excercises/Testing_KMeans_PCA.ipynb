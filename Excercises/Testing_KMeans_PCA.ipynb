{
 "cells": [
  {
   "cell_type": "markdown",
   "source": [
    "## KMeans"
   ],
   "metadata": {
    "collapsed": false
   }
  },
  {
   "cell_type": "code",
   "execution_count": 1,
   "outputs": [
    {
     "name": "stdout",
     "output_type": "stream",
     "text": [
      "['syct', 'mmin', 'mmax', 'cach', 'chmin', 'chmax', 'perf']\n"
     ]
    }
   ],
   "source": [
    "from si.io.CSV import read_csv\n",
    "from si.io.data_file import read_data_file\n",
    "from si.clustering.kmeans import KMeans\n",
    "from si.decomposition.pca import PCA\n",
    "from sklearn import preprocessing\n",
    "\n",
    "data1 = read_csv(\"C:/Users/rober/si/datasets/cpu/cpu.csv\", \",\", True)\n",
    "data2 = read_data_file(\"C:/Users/rober/si/datasets/breast/breast-bin.data\", \",\")"
   ],
   "metadata": {
    "collapsed": false
   }
  },
  {
   "cell_type": "code",
   "execution_count": 12,
   "outputs": [
    {
     "name": "stdout",
     "output_type": "stream",
     "text": [
      "Not scaled:\n",
      "Number of iterations: 8\n",
      "\n",
      "Groups:\n",
      "[0 1 1 1 2 1 1 1 1 1 0 0 2 2 0 2 0 0 0 0 0 0 0 0 0 0 0 0 0 0 0 0 2 2 2 2 0\n",
      " 0 2 0 2 2 2 2 2 2 0 0 2 2 2 0 2 2 0 2 2 2 2 2 2 2 0 2 2 2 0 0 0 0 2 2 0 0\n",
      " 0 2 0 2 0 2 0 0 2 0 0 0 0 0 1 2 1 1 0 2 1 1 1 1 2 0 0 0 0 0 0 0 2 0 0 0 0\n",
      " 0 0 0 2 2 2 0 2 2 2 2 0 0 0 0 2 2 2 2 2 2 2 2 2 2 2 0 2 0 2 2 2 2 2 2 2 2\n",
      " 2 2 2 1 1 1 1 1 1 0 0 0 0 2 2 2 2 2 2 2 1 2 0 0 2 0 0 2 0 0 0 2 2 0 0 0 0\n",
      " 2 2 2 2 2 1 1 1 2 1 1 1 1 1 1 0 0 0 0 2 2 2 2 0]\n",
      "\n",
      "\n",
      "\n",
      "Scaled\n",
      "Number of iterations: 11\n",
      "\n",
      "Groups:\n",
      "[2 2 2 2 1 2 2 2 2 2 1 1 1 1 1 1 1 1 1 2 1 1 1 1 1 1 1 1 1 1 2 2 1 1 1 1 1\n",
      " 1 1 1 1 1 1 1 1 1 0 0 1 1 0 0 1 1 1 1 1 0 0 0 0 0 1 1 1 2 1 1 1 1 1 1 1 1\n",
      " 1 1 1 1 1 1 1 1 1 1 1 1 1 1 1 1 1 1 1 1 2 2 2 2 1 0 1 1 0 0 0 1 1 0 0 0 0\n",
      " 0 1 1 1 1 1 1 1 1 1 1 0 0 0 1 1 1 1 1 1 1 1 1 1 1 1 1 1 1 1 1 1 1 1 1 1 1\n",
      " 1 1 1 2 2 2 1 2 2 1 1 1 1 1 1 1 1 1 1 1 2 2 1 1 1 1 1 1 1 1 1 1 1 1 1 1 1\n",
      " 1 1 1 1 2 1 2 2 1 1 2 2 2 2 2 1 1 1 1 1 1 1 1 0]\n"
     ]
    }
   ],
   "source": [
    "km = KMeans(3, 500)\n",
    "\n",
    "print(\"Not scaled:\")\n",
    "km_fit = km.fit(data1, False)\n",
    "print(\"\\nGroups:\")\n",
    "print(km_fit.predict(data1, False))\n",
    "\n",
    "print(\"\\n\\n\")\n",
    "\n",
    "print(\"Scaled\")\n",
    "km_fit = km.fit(data1, True)\n",
    "print(\"\\nGroups:\")\n",
    "print(km_fit.predict(data1, True))"
   ],
   "metadata": {
    "collapsed": false
   }
  },
  {
   "cell_type": "code",
   "execution_count": 13,
   "outputs": [
    {
     "name": "stdout",
     "output_type": "stream",
     "text": [
      "Number of iterations: 4\n",
      "\n",
      "Groups:\n",
      "[0 2 1 1 0 2 1 2 2 0 1 1 1 2 1 2 2 1 2 0 2 2 1 1 2 0 0 0 0 0 0 2 0 0 1 0 2\n",
      " 0 2 2 0 0 1 2 1 2 0 0 2 1 1 0 2 1 1 1 2 2 1 2 0 0 2 1 1 2 2 2 2 1 1 0 0 2\n",
      " 2 1 1 2 2 0 2 2 2 0 0 0 2 2 0 2 0 1 0 1 1 0 2 1 2 2 2 0 1 0 0 0 0 2 1 1 1\n",
      " 1 0 2 1 2 0 0 2 1 1 2 2 2 1 2 2 2 2 2 2 1 1 0 0 1 0 0 2 0 0 1 1 1 2 2 2 0\n",
      " 2 0 2 2 0 1 1 1 2 1 2 0 1 2 2 1 0 2 0 1 1 2 2 2 0 0 0 2 2 2 0 2 2 1 1 0 0\n",
      " 2 2 2 2 0 1 1 1 1 2 2 0 0 1 0 0 2 0 1 2 2 2 2 2 0 2 0 1 2 1 1 1 1 2 2 0 0\n",
      " 1 0 1 1 1 2 1 0 0 2 2 0 2 0 2 1 0 0 2 2 0 0 0 0 1 0 0 2 1 1 2 2 1 0 2 0 0\n",
      " 2 0 0 1 1 2 0 0 2 2 2 1 1 1 1 0 0 0 1 0 1 1 0 0 0 0 0 1 2 2 2 2 0 2 2 1 2\n",
      " 1 0 2 0 0 2 0 1 0 1 1 1 2 0 0 2 0 2 2 2 2 0 2 0 1 1 2 1 0 0 2 2 2 0 1 1 2\n",
      " 1 0 2 0 2 0 0 0 1 1 1 1 1 2 0 1 1 2 1 1 1 2 2 1 0 1 2 1 2 2 2 1 0 2 0 0 0\n",
      " 0 1 2 1 2 0 1 1 1 2 2 2 2 0 0 1 2 1 2 2 2 0 2 0 0 2 2 2 0 1 0 2 0 1 0 2 1\n",
      " 1 1 0 0 0 0 2 2 0 2 0 1 1 0 2 0 0 0 1 2 1 1 0 0 0 2 2 1 1 2 1 0 2 0 0 2 0\n",
      " 1 0 2 2 0 0 2 2 0 1 0 1 1 2 2 0 1 2 0 2 2 0 1 1 1 2 2 0 0 0 0 2 2 2 2 0 0\n",
      " 2 2 2 1 0 1 1 2 1 0 0 2 2 2 1 0 0 2 1 0 2 0 2 0 2 2 2 0 2 0 0 0 2 2 2 2 0\n",
      " 0 1 2 0 0 0 0 2 1 0 2 0 1 1 0 2 1 2 0 2 0 1 2 0 2 2 1 2 0 1 1 0 0 0 0 2 0\n",
      " 1 2 2 2 0 1 2 2 1 1 2 2 2 0 2 2 0 1 2 2 2 2 2 0 1 1 1 2 1 2 2 0 0 1 0 1 2\n",
      " 0 0 0 0 0 2 2 2 2 2 1 1 0 0 2 0 2 2 2 1 0 2 2 2 0 2 1 0 0 2 2 0 2 0 0 0 1\n",
      " 1 2 1 2 2 1 0 0 0 0 0 2 0 1 1 2 0 1 2 0 2 1 2 2 0 1 0 2 0 0 2 2 0 0 2 0 2\n",
      " 0 2 2 1 2 1 1 0 0 2 1 2 0 1 0 1 0 2 1 0 2 2 2 1 0 0 0 2 1 2 2 1 0]\n"
     ]
    }
   ],
   "source": [
    "km_fit = km.fit(data2)\n",
    "#print(km_fit.transform(data1))\n",
    "print(\"\\nGroups:\")\n",
    "print(km_fit.predict(data2))"
   ],
   "metadata": {
    "collapsed": false
   }
  },
  {
   "cell_type": "markdown",
   "source": [
    "## PCA"
   ],
   "metadata": {
    "collapsed": false
   }
  },
  {
   "cell_type": "code",
   "execution_count": 14,
   "outputs": [
    {
     "name": "stdout",
     "output_type": "stream",
     "text": [
      "### CREATED CLASS ###\n",
      "---------------------\n",
      "Mean Values:\n",
      " [2.03822967e+02 2.86798086e+03 1.17961531e+04 2.52057416e+01\n",
      " 4.69856459e+00 1.82679426e+01 1.05617225e+02]\n",
      "\n",
      "Principal Components:\n",
      " [[ 8.21442494e-03 -2.53623911e-01 -9.67196034e-01 -1.83758932e-03\n",
      "  -3.19360738e-04 -1.10744041e-03 -1.16000472e-02]\n",
      " [-5.83244887e-03  9.67167337e-01 -2.53802075e-01  2.75147062e-03\n",
      "   3.10590488e-04 -2.45311834e-03  1.11421126e-02]\n",
      " [ 9.99348855e-01  7.37869840e-03  6.25893770e-03 -1.86943731e-02\n",
      "  -2.38230562e-03 -7.49739086e-03  2.82290581e-02]]\n"
     ]
    }
   ],
   "source": [
    "print(\"### CREATED CLASS ###\\n---------------------\")\n",
    "\n",
    "pca = PCA(3)\n",
    "\n",
    "pca.fit(data1)\n",
    "print(\"Mean Values:\\n\", pca.mean_vals)\n",
    "print(\"\\nPrincipal Components:\\n\", pca.principal_comp)\n",
    "#print(\"\\nExplained Variance:\\n\", pca.explained_variance)\n",
    "#print(\"\\n----------\\n\")\n",
    "\n",
    "#svd_red = pca.transform(data1)\n",
    "#print(\"SVD Reduced:\\n\", svd_red)\n",
    "#print(\"\\nS:\\n\", S)\n",
    "#print(\"\\nV:\\n\", V)"
   ],
   "metadata": {
    "collapsed": false
   }
  },
  {
   "cell_type": "code",
   "execution_count": 15,
   "outputs": [
    {
     "name": "stdout",
     "output_type": "stream",
     "text": [
      "### ORIGINAL CLASS (sklearn) ###\n",
      "--------------------------------\n",
      "[[-8.21442494e-03  2.53623911e-01  9.67196034e-01  1.83758932e-03\n",
      "   3.19360738e-04  1.10744041e-03  1.16000472e-02]\n",
      " [-5.83244887e-03  9.67167337e-01 -2.53802075e-01  2.75147062e-03\n",
      "   3.10590488e-04 -2.45311834e-03  1.11421126e-02]\n",
      " [ 9.99348855e-01  7.37869840e-03  6.25893770e-03 -1.86943731e-02\n",
      "  -2.38230562e-03 -7.49739086e-03  2.82290581e-02]]\n"
     ]
    }
   ],
   "source": [
    "print(\"### ORIGINAL CLASS (sklearn) ###\\n--------------------------------\")\n",
    "\n",
    "from sklearn.decomposition import PCA\n",
    "\n",
    "pca = PCA(n_components=3)\n",
    "pca.fit(data1.X)\n",
    "print(pca.components_)"
   ],
   "metadata": {
    "collapsed": false
   }
  },
  {
   "cell_type": "code",
   "execution_count": 16,
   "outputs": [
    {
     "data": {
      "text/plain": "array([[  125,   256,  6000, ...,    16,   128,   198],\n       [   29,  8000, 32000, ...,     8,    32,   269],\n       [   29,  8000, 32000, ...,     8,    32,   220],\n       ...,\n       [  125,  2000,  8000, ...,     2,    14,    52],\n       [  480,   512,  8000, ...,     0,     0,    67],\n       [  480,  1000,  4000, ...,     0,     0,    45]], dtype=int64)"
     },
     "execution_count": 16,
     "metadata": {},
     "output_type": "execute_result"
    }
   ],
   "source": [
    "data1.X"
   ],
   "metadata": {
    "collapsed": false
   }
  },
  {
   "cell_type": "code",
   "execution_count": null,
   "outputs": [],
   "source": [],
   "metadata": {
    "collapsed": false
   }
  }
 ],
 "metadata": {
  "kernelspec": {
   "display_name": "Python 3",
   "language": "python",
   "name": "python3"
  },
  "language_info": {
   "codemirror_mode": {
    "name": "ipython",
    "version": 2
   },
   "file_extension": ".py",
   "mimetype": "text/x-python",
   "name": "python",
   "nbconvert_exporter": "python",
   "pygments_lexer": "ipython2",
   "version": "2.7.6"
  }
 },
 "nbformat": 4,
 "nbformat_minor": 0
}
