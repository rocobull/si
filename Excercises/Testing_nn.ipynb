{
 "cells": [
  {
   "cell_type": "code",
   "execution_count": 1,
   "metadata": {
    "collapsed": true
   },
   "outputs": [],
   "source": [
    "from si.neural_network.nn import NN\n",
    "from si.neural_network.layers import Dense, SigmoidActivation, SoftMaxActivation, ReLUActivation"
   ]
  },
  {
   "cell_type": "code",
   "execution_count": 2,
   "outputs": [],
   "source": [
    "#Exemplo: X1 XNOR X2\n",
    "\n",
    "l1 = Dense(2, 2)\n",
    "l2 = Dense(2, 1)\n",
    "\n",
    "l1.sg = SigmoidActivation()\n",
    "l2.sg = SigmoidActivation()\n",
    "\n",
    "nn_node1 = NN(\n",
    "    layers=[l1, l1.sg, l2, l2.sg]\n",
    ")\n",
    "\n",
    "#nn_node1.fit()\n"
   ],
   "metadata": {
    "collapsed": false
   }
  },
  {
   "cell_type": "code",
   "execution_count": 3,
   "outputs": [
    {
     "name": "stdout",
     "output_type": "stream",
     "text": [
      "-----------\n",
      "First: 32\n",
      "Next: 32 16\n",
      "Weights: (32, 16)\n",
      "Next: 16 16\n",
      "Weights: (16, 16)\n",
      "-----------\n"
     ]
    }
   ],
   "source": [
    "l1 = Dense(32, 32)\n",
    "l2 = Dense(32, 16)\n",
    "l3 = Dense(16, 16)\n",
    "\n",
    "l1.sg = SigmoidActivation()\n",
    "l2.sg = SigmoidActivation()\n",
    "l3.sg = SigmoidActivation()\n",
    "\n",
    "nn_node2 = NN(\n",
    "    layers=[l1, l1.sg, l2, l2.sg, l3, l3.sg]\n",
    ")\n",
    "\n",
    "#nn_node1.fit()"
   ],
   "metadata": {
    "collapsed": false
   }
  },
  {
   "cell_type": "code",
   "execution_count": null,
   "outputs": [],
   "source": [
    "l1 = Dense(32, 32)\n",
    "l2 = Dense(32, 16)\n",
    "l3 = Dense(16, 16)\n",
    "\n",
    "l1.sg = SigmoidActivation()\n",
    "l2.sg = SigmoidActivation()\n",
    "l3.sm = SoftMaxActivation()\n",
    "\n",
    "nn_node3 = NN(\n",
    "    layers=[l1, l1.sg, l2, l2.sg, l3, l3.sm]\n",
    ")"
   ],
   "metadata": {
    "collapsed": false
   }
  },
  {
   "cell_type": "code",
   "execution_count": null,
   "outputs": [],
   "source": [
    "l1 = Dense(32, 32)\n",
    "l2 = Dense(32, 16)\n",
    "l3 = Dense(16, 16)\n",
    "\n",
    "l1.rl = ReLUActivation()\n",
    "l2.rl = ReLUActivation()\n",
    "\n",
    "nn_node4 = NN(\n",
    "    layers=[l1, l1.rl, l2, l2.rl, l3] #No final activation function for linear regression problem\n",
    ")"
   ],
   "metadata": {
    "collapsed": false
   }
  },
  {
   "cell_type": "markdown",
   "source": [
    "### Dataset: *breast-bin.csv*"
   ],
   "metadata": {
    "collapsed": false
   }
  },
  {
   "cell_type": "code",
   "execution_count": 2,
   "outputs": [],
   "source": [
    "from si.data.dataset import Dataset\n",
    "from si.io.CSV import read_csv\n",
    "from si.model_selection.split import train_test_split\n",
    "from si.model_selection.grid_search import grid_search_nn\n",
    "from si.metrics.accuracy import accuracy\n",
    "\n",
    "from si.neural_network.nn import NN\n",
    "from si.neural_network.layers import Dense, SigmoidActivation, SoftMaxActivation, ReLUActivation"
   ],
   "metadata": {
    "collapsed": false
   }
  },
  {
   "cell_type": "code",
   "execution_count": 3,
   "outputs": [],
   "source": [
    "data = read_csv(\"C:/Users/rober/si/datasets/breast/breast-bin.csv\", sep=\",\", features=False, label=-1)\n",
    "data.y = data.y.astype(\"int\")\n",
    "#print(data.X.astype(int))\n",
    "#print(data.y)"
   ],
   "metadata": {
    "collapsed": false
   }
  },
  {
   "cell_type": "code",
   "execution_count": 4,
   "outputs": [
    {
     "name": "stdout",
     "output_type": "stream",
     "text": [
      "Parameters of each layer: {0: {'name': 'dense', 'output_size': 10}, 1: {'name': 'dense', 'output_size': 50}, 2: {'name': 'dense', 'output_size': 2}, 3: {'name': 'sigmoid'}}\n",
      "|\n",
      "{'seed': [962, 428, 939, 401, 191], 'train': [0.8469387755102041, 0.8285714285714286, 0.8346938775510204, 0.7857142857142857, 0.8142857142857143], 'test': [0.8277511961722488, 0.84688995215311, 0.8277511961722488, 0.7894736842105263, 0.8181818181818182], 'parameters': {'epochs': 500, 'verbose': False}}\n",
      "\n",
      "Parameters of each layer: {0: {'name': 'dense', 'output_size': 10}, 1: {'name': 'dense', 'output_size': 100}, 2: {'name': 'dense', 'output_size': 2}, 3: {'name': 'sigmoid'}}\n",
      "|\n",
      "{'seed': [704, 441, 471, 325, 200], 'train': [0.7408163265306122, 0.7224489795918367, 0.7285714285714285, 0.7204081632653061, 0.726530612244898], 'test': [0.7033492822966507, 0.7464114832535885, 0.7081339712918661, 0.7464114832535885, 0.7033492822966507], 'parameters': {'epochs': 500, 'verbose': False}}\n",
      "\n",
      "Parameters of each layer: {0: {'name': 'dense', 'output_size': 10}, 1: {'name': 'dense', 'output_size': 150}, 2: {'name': 'dense', 'output_size': 2}, 3: {'name': 'sigmoid'}}\n",
      "|\n",
      "{'seed': [613, 908, 629, 553, 876], 'train': [0.07142857142857142, 0.0653061224489796, 0.07755102040816327, 0.4326530612244898, 0.49795918367346936], 'test': [0.05263157894736842, 0.08133971291866028, 0.05263157894736842, 0.40669856459330145, 0.44019138755980863], 'parameters': {'epochs': 500, 'verbose': False}}\n",
      "\n",
      "Parameters of each layer: {0: {'name': 'dense', 'output_size': 20}, 1: {'name': 'dense', 'output_size': 50}, 2: {'name': 'dense', 'output_size': 2}, 3: {'name': 'sigmoid'}}\n",
      "|\n",
      "{'seed': [261, 795, 238, 835, 252], 'train': [0.12653061224489795, 0.41836734693877553, 0.5102040816326531, 0.5244897959183673, 0.5428571428571428], 'test': [0.2631578947368421, 0.3827751196172249, 0.39712918660287083, 0.5454545454545454, 0.5167464114832536], 'parameters': {'epochs': 500, 'verbose': False}}\n",
      "\n",
      "Parameters of each layer: {0: {'name': 'dense', 'output_size': 20}, 1: {'name': 'dense', 'output_size': 100}, 2: {'name': 'dense', 'output_size': 2}, 3: {'name': 'sigmoid'}}\n",
      "|\n",
      "{'seed': [594, 325, 200, 928, 268], 'train': [0.044897959183673466, 0.04693877551020408, 0.05102040816326531, 0.05102040816326531, 0.05510204081632653], 'test': [0.05741626794258373, 0.04784688995215311, 0.03349282296650718, 0.03349282296650718, 0.023923444976076555], 'parameters': {'epochs': 500, 'verbose': False}}\n",
      "\n",
      "Parameters of each layer: {0: {'name': 'dense', 'output_size': 20}, 1: {'name': 'dense', 'output_size': 150}, 2: {'name': 'dense', 'output_size': 2}, 3: {'name': 'sigmoid'}}\n",
      "|\n",
      "{'seed': [455, 831, 851, 921, 232], 'train': [0.23061224489795917, 0.42857142857142855, 0.48367346938775513, 0.48775510204081635, 0.47346938775510206], 'test': [0.20095693779904306, 0.430622009569378, 0.507177033492823, 0.45454545454545453, 0.49282296650717705], 'parameters': {'epochs': 500, 'verbose': False}}\n",
      "\n",
      "Parameters of each layer: {0: {'name': 'dense', 'output_size': 50}, 1: {'name': 'dense', 'output_size': 50}, 2: {'name': 'dense', 'output_size': 2}, 3: {'name': 'sigmoid'}}\n",
      "|\n",
      "{'seed': [925, 445, 888, 222, 976], 'train': [0.08979591836734693, 0.09387755102040816, 0.12244897959183673, 0.09387755102040816, 0.10204081632653061], 'test': [0.0861244019138756, 0.07655502392344497, 0.06220095693779904, 0.11483253588516747, 0.10526315789473684], 'parameters': {'epochs': 500, 'verbose': False}}\n",
      "\n",
      "Parameters of each layer: {0: {'name': 'dense', 'output_size': 50}, 1: {'name': 'dense', 'output_size': 100}, 2: {'name': 'dense', 'output_size': 2}, 3: {'name': 'sigmoid'}}\n",
      "|\n",
      "{'seed': [863, 103, 138, 623, 434], 'train': [0.7673469387755102, 0.7959183673469388, 0.7244897959183674, 0.7204081632653061, 0.726530612244898], 'test': [0.7799043062200957, 0.7607655502392344, 0.7464114832535885, 0.7368421052631579, 0.7559808612440191], 'parameters': {'epochs': 500, 'verbose': False}}\n",
      "\n",
      "Parameters of each layer: {0: {'name': 'dense', 'output_size': 50}, 1: {'name': 'dense', 'output_size': 150}, 2: {'name': 'dense', 'output_size': 2}, 3: {'name': 'sigmoid'}}\n",
      "|\n",
      "{'seed': [86, 295, 216, 468, 873], 'train': [0.8734693877551021, 0.8755102040816326, 0.8734693877551021, 0.8857142857142857, 0.8816326530612245], 'test': [0.8899521531100478, 0.8947368421052632, 0.9090909090909091, 0.8803827751196173, 0.8899521531100478], 'parameters': {'epochs': 500, 'verbose': False}}\n",
      "\n",
      "Parameters of each layer: {0: {'name': 'dense', 'output_size': 100}, 1: {'name': 'dense', 'output_size': 50}, 2: {'name': 'dense', 'output_size': 2}, 3: {'name': 'sigmoid'}}\n",
      "|\n",
      "{'seed': [645, 135, 269, 847, 81], 'train': [0.0836734693877551, 0.09591836734693877, 0.10204081632653061, 0.08775510204081632, 0.08571428571428572], 'test': [0.09569377990430622, 0.07655502392344497, 0.09090909090909091, 0.11961722488038277, 0.10526315789473684], 'parameters': {'epochs': 500, 'verbose': False}}\n",
      "\n",
      "Parameters of each layer: {0: {'name': 'dense', 'output_size': 100}, 1: {'name': 'dense', 'output_size': 100}, 2: {'name': 'dense', 'output_size': 2}, 3: {'name': 'sigmoid'}}\n",
      "|\n",
      "{'seed': [966, 858, 57, 568, 561], 'train': [0.18979591836734694, 0.13673469387755102, 0.1469387755102041, 0.18979591836734694, 0.3081632653061224], 'test': [0.1339712918660287, 0.2727272727272727, 0.2727272727272727, 0.22488038277511962, 0.2966507177033493], 'parameters': {'epochs': 500, 'verbose': False}}\n",
      "\n",
      "Parameters of each layer: {0: {'name': 'dense', 'output_size': 100}, 1: {'name': 'dense', 'output_size': 150}, 2: {'name': 'dense', 'output_size': 2}, 3: {'name': 'sigmoid'}}\n",
      "|\n",
      "{'seed': [816, 919, 455, 831, 851], 'train': [0.7285714285714285, 0.7163265306122449, 0.7326530612244898, 0.7448979591836735, 0.7571428571428571], 'test': [0.7320574162679426, 0.7416267942583732, 0.7368421052631579, 0.7464114832535885, 0.7655502392344498], 'parameters': {'epochs': 500, 'verbose': False}}\n",
      "\n"
     ]
    }
   ],
   "source": [
    "#train, test = train_test_split(data, 0.3, 1)\n",
    "layers = [\"dense\", \"dense\", \"dense\", \"sigmoid\"]\n",
    "param_grid = [{\"output_size\": [10,20,50,100]}, {\"output_size\": [50, 100, 150]}, {\"output_size\": [2]}, {}]\n",
    "nn_param_grid = {\"epochs\": [500], \"verbose\": [False]}\n",
    "\n",
    "scores, best_grid, best_model = grid_search_nn(data, layers, param_grid, nn_param_grid, scoring=accuracy)"
   ],
   "metadata": {
    "collapsed": false
   }
  },
  {
   "cell_type": "code",
   "execution_count": 7,
   "outputs": [
    {
     "name": "stdout",
     "output_type": "stream",
     "text": [
      "{'seed': 873, 'best_test_score': 0.8899521531100478, 'nn_grid': {'epochs': 500, 'verbose': False}, 'layers_grid': {0: {'name': 'dense', 'output_size': 50}, 1: {'name': 'dense', 'output_size': 150}, 2: {'name': 'dense', 'output_size': 2}, 3: {'name': 'sigmoid'}}}\n",
      "\n"
     ]
    },
    {
     "data": {
      "text/plain": "0.7655502392344498"
     },
     "execution_count": 7,
     "metadata": {},
     "output_type": "execute_result"
    }
   ],
   "source": [
    "print(best_grid)\n",
    "print()\n",
    "train, test = train_test_split(data, 0.3, best_grid[\"seed\"])\n",
    "y_pred = best_model.predict(test, True)\n",
    "accuracy(test.y, y_pred) # Not the same result ????"
   ],
   "metadata": {
    "collapsed": false
   }
  },
  {
   "cell_type": "code",
   "execution_count": null,
   "outputs": [],
   "source": [
    "#Matriz de pesos para cada camada:\n",
    "#- Colunas: Nodos da camada atual\n",
    "#- Linhas: Ligação aos nodos da camada anterior\n",
    "\n",
    "#No exemplo da aula, a primeira hidden layer fica:\n",
    "#[20, -20\n",
    "# 20, -20]"
   ],
   "metadata": {
    "collapsed": false
   }
  }
 ],
 "metadata": {
  "kernelspec": {
   "display_name": "Python 3",
   "language": "python",
   "name": "python3"
  },
  "language_info": {
   "codemirror_mode": {
    "name": "ipython",
    "version": 2
   },
   "file_extension": ".py",
   "mimetype": "text/x-python",
   "name": "python",
   "nbconvert_exporter": "python",
   "pygments_lexer": "ipython2",
   "version": "2.7.6"
  }
 },
 "nbformat": 4,
 "nbformat_minor": 0
}
