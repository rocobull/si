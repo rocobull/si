{
 "cells": [
  {
   "cell_type": "markdown",
   "source": [
    "## DNA"
   ],
   "metadata": {
    "collapsed": false
   }
  },
  {
   "cell_type": "code",
   "execution_count": 1,
   "outputs": [],
   "source": [
    "from si.data.dataset import Dataset\n",
    "from si.feature_extraction.k_mer import KMer\n",
    "from si.model_selection.split import train_test_split\n",
    "from si.io.CSV import read_csv\n",
    "\n",
    "from si.linear_model.logistic_regression import LogisticRegression"
   ],
   "metadata": {
    "collapsed": false
   }
  },
  {
   "cell_type": "code",
   "execution_count": 2,
   "outputs": [],
   "source": [
    "data = read_csv(\"C:/Users/rober/si/datasets/tfbs.csv\", sep=\",\", features=True, label=-1)\n",
    "#print(data)"
   ],
   "metadata": {
    "collapsed": false
   }
  },
  {
   "cell_type": "code",
   "execution_count": 3,
   "outputs": [],
   "source": [
    "model = KMer(3, \"dna\")\n",
    "new_data = model.fit_transform(data)"
   ],
   "metadata": {
    "collapsed": false
   }
  },
  {
   "cell_type": "code",
   "execution_count": 4,
   "outputs": [],
   "source": [
    "train, test = train_test_split(new_data, 0.3, 1)"
   ],
   "metadata": {
    "collapsed": false
   }
  },
  {
   "cell_type": "code",
   "execution_count": 5,
   "outputs": [
    {
     "name": "stdout",
     "output_type": "stream",
     "text": [
      "1000\n",
      "0.9383333333333334\n"
     ]
    }
   ],
   "source": [
    "model2 = LogisticRegression()\n",
    "model2.fit(train, use_adaptive_fit=True, scale=True)\n",
    "print(model2.score(test, scale=True))"
   ],
   "metadata": {
    "collapsed": false
   }
  },
  {
   "cell_type": "markdown",
   "source": [
    "## Protein"
   ],
   "metadata": {
    "collapsed": false
   }
  },
  {
   "cell_type": "code",
   "execution_count": 6,
   "outputs": [],
   "source": [
    "data = read_csv(\"C:/Users/rober/si/datasets/transporters.csv\", sep=\",\", features=True, label=-1)"
   ],
   "metadata": {
    "collapsed": false
   }
  },
  {
   "cell_type": "code",
   "execution_count": 7,
   "outputs": [
    {
     "name": "stdout",
     "output_type": "stream",
     "text": [
      "1000\n",
      "0.7744610281923715\n"
     ]
    }
   ],
   "source": [
    "model = KMer(2, \"protein\")\n",
    "new_data = model.fit_transform(data)\n",
    "\n",
    "train, test = train_test_split(new_data, 0.3, 1)\n",
    "\n",
    "model2 = LogisticRegression()\n",
    "model2.fit(train, use_adaptive_fit=True, scale=True)\n",
    "print(model2.score(test, scale=True))"
   ],
   "metadata": {
    "collapsed": false
   }
  }
 ],
 "metadata": {
  "kernelspec": {
   "display_name": "Python 3",
   "language": "python",
   "name": "python3"
  },
  "language_info": {
   "codemirror_mode": {
    "name": "ipython",
    "version": 2
   },
   "file_extension": ".py",
   "mimetype": "text/x-python",
   "name": "python",
   "nbconvert_exporter": "python",
   "pygments_lexer": "ipython2",
   "version": "2.7.6"
  }
 },
 "nbformat": 4,
 "nbformat_minor": 0
}
