{
 "cells": [
  {
   "cell_type": "code",
   "execution_count": 2,
   "id": "de0edb30",
   "metadata": {},
   "outputs": [],
   "source": [
    "import numpy as np\n",
    "\n",
    "class Dataset:\n",
    "    \n",
    "    def __init__(self, X:np.ndarray, y:np.ndarray=None, features=None, label=None):\n",
    "        self.X = X\n",
    "        self.y = y\n",
    "        self.features = features\n",
    "        self.label = label\n",
    "    \n",
    "    def shape(self):\n",
    "        return X.shape(), Y.shape()\n",
    "    \n",
    "    def has_label(self):\n",
    "        if y==None:       #Mudar condição\n",
    "            return False\n",
    "        else:\n",
    "            return True\n",
    "    \n",
    "    def get_classes(self):\n",
    "        pass"
   ]
  },
  {
   "cell_type": "code",
   "execution_count": null,
   "id": "1fb874b6",
   "metadata": {},
   "outputs": [],
   "source": [
    "x = np.array\n",
    "temp = Dataset()"
   ]
  }
 ],
 "metadata": {
  "kernelspec": {
   "display_name": "Python 3",
   "language": "python",
   "name": "python3"
  },
  "language_info": {
   "codemirror_mode": {
    "name": "ipython",
    "version": 3
   },
   "file_extension": ".py",
   "mimetype": "text/x-python",
   "name": "python",
   "nbconvert_exporter": "python",
   "pygments_lexer": "ipython3",
   "version": "3.8.8"
  }
 },
 "nbformat": 4,
 "nbformat_minor": 5
}
